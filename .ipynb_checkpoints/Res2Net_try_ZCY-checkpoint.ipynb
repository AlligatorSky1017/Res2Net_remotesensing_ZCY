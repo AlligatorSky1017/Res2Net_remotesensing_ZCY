{
 "cells": [
  {
   "cell_type": "markdown",
   "id": "af026e68",
   "metadata": {},
   "source": [
    "# 下载数据集及下载源文件\n",
    "\n",
    "姓名：ZCY\n",
    "完成日期：2022/04/27"
   ]
  },
  {
   "cell_type": "code",
   "execution_count": 3,
   "id": "cef93301",
   "metadata": {},
   "outputs": [],
   "source": [
    "# ! wget http://madm.dfki.de/files/sentinel/EuroSAT.zip\n",
    "# ! unzip EuroSAT.zip\n",
    "# ! git clone https://github.com/gasvn/Res2Net.git \n",
    "# ! pip install ipython-autotime # 自动演示运行时间"
   ]
  },
  {
   "cell_type": "markdown",
   "id": "a1506c0c",
   "metadata": {},
   "source": [
    "# 导入必须库"
   ]
  },
  {
   "cell_type": "code",
   "execution_count": 3,
   "id": "b30c3597",
   "metadata": {},
   "outputs": [
    {
     "name": "stdout",
     "output_type": "stream",
     "text": [
      "time: 485 µs (started: 2022-04-28 03:30:51 +00:00)\n"
     ]
    },
    {
     "name": "stderr",
     "output_type": "stream",
     "text": [
      "/remote-home/cyzhang/miniconda3/envs/pytorch/lib/python3.7/site-packages/google/colab/data_table.py:30: UserWarning: IPython.utils.traitlets has moved to a top-level traitlets package.\n",
      "  from IPython.utils import traitlets as _traitlets\n"
     ]
    }
   ],
   "source": [
    "import torch\n",
    "from torch import nn\n",
    "import torch.optim as optim\n",
    "from torch.utils.data import Dataset, DataLoader\n",
    "from torch.utils.data import ConcatDataset\n",
    "import torchvision.transforms as transforms\n",
    "from torchvision import models\n",
    "from torchvision import utils\n",
    "from torchsummary import summary\n",
    "import torch.nn.functional as F\n",
    "\n",
    "import numpy as np\n",
    "import os\n",
    "import cv2\n",
    "import random\n",
    "import numpy as np\n",
    "# from keras.utils import to_categorical\n",
    "from tensorflow.keras.utils import to_categorical\n",
    "from sklearn.model_selection import train_test_split\n",
    "from sklearn.metrics import classification_report\n",
    "from sklearn.metrics import confusion_matrix\n",
    "import seaborn as sb\n",
    "import matplotlib.pyplot as plt\n",
    "\n",
    "from IPython.display import clear_output\n",
    "from google.colab import files\n",
    "\n",
    "from Res2Net import res2net\n",
    "\n",
    "%load_ext autotime"
   ]
  },
  {
   "cell_type": "markdown",
   "id": "da6860ae",
   "metadata": {},
   "source": [
    "# 导入必须库与数据集"
   ]
  },
  {
   "cell_type": "code",
   "execution_count": 13,
   "id": "2ee24cd8",
   "metadata": {},
   "outputs": [
    {
     "name": "stdout",
     "output_type": "stream",
     "text": [
      "time: 3.78 ms (started: 2022-04-28 03:43:55 +00:00)\n"
     ]
    }
   ],
   "source": [
    "BASE_PATH = \"./EuroSAT/2750\"\n",
    "CUDA = torch.cuda.is_available()\n",
    "DEVICE = torch.device(\"cuda:1\" if CUDA else \"cpu\")\n",
    "# DEVICE = torch.device(\"cuda\") if CUDA else torch.device(\"cpu\")\n",
    "BATCH_SIZE = 10\n",
    "EPOCHS = 60\n",
    "LABELS = sorted(os.listdir(BASE_PATH))\n",
    "CLASSES = len(LABELS)\n",
    "LABEL_DICT = { LABELS[index] : index for index in range(CLASSES) }\n",
    "LEARNING_RATE = 0.0001\n",
    "TEST_RATIO = 0.2"
   ]
  },
  {
   "cell_type": "code",
   "execution_count": 5,
   "id": "db238188",
   "metadata": {},
   "outputs": [
    {
     "data": {
      "text/plain": [
       "['AnnualCrop',\n",
       " 'Forest',\n",
       " 'HerbaceousVegetation',\n",
       " 'Highway',\n",
       " 'Industrial',\n",
       " 'Pasture',\n",
       " 'PermanentCrop',\n",
       " 'Residential',\n",
       " 'River',\n",
       " 'SeaLake']"
      ]
     },
     "execution_count": 5,
     "metadata": {},
     "output_type": "execute_result"
    },
    {
     "name": "stdout",
     "output_type": "stream",
     "text": [
      "time: 4.89 ms (started: 2022-04-22 13:30:55 +00:00)\n"
     ]
    }
   ],
   "source": [
    "LABELS"
   ]
  },
  {
   "cell_type": "code",
   "execution_count": 16,
   "id": "0b62179c",
   "metadata": {},
   "outputs": [
    {
     "name": "stdout",
     "output_type": "stream",
     "text": [
      "time: 2.18 ms (started: 2022-04-28 03:44:15 +00:00)\n"
     ]
    }
   ],
   "source": [
    "def read_data(labels = LABELS):\n",
    "    X = []\n",
    "    Y = []\n",
    "\n",
    "    for label in labels :\n",
    "        each_class_path = os.path.join(BASE_PATH, label)\n",
    "        for img in os.listdir(each_class_path) :\n",
    "            image_path = os.path.join(each_class_path, img)\n",
    "            image = cv2.imread(image_path, cv2.IMREAD_UNCHANGED)\n",
    "\n",
    "            X.append(image)\n",
    "            Y.append(label)      \n",
    "\n",
    "    X = np.array(X)\n",
    "    Y = np.array(Y)\n",
    "    return X, Y"
   ]
  },
  {
   "cell_type": "code",
   "execution_count": 18,
   "id": "765a6c80",
   "metadata": {},
   "outputs": [
    {
     "data": {
      "text/plain": [
       "((27000, 64, 64, 3), (27000,))"
      ]
     },
     "execution_count": 18,
     "metadata": {},
     "output_type": "execute_result"
    },
    {
     "name": "stdout",
     "output_type": "stream",
     "text": [
      "time: 3.67 s (started: 2022-04-28 03:44:55 +00:00)\n"
     ]
    }
   ],
   "source": [
    "X, Y = read_data()\n",
    "X.shape, Y.shape"
   ]
  },
  {
   "cell_type": "code",
   "execution_count": 19,
   "id": "8f96ce80",
   "metadata": {},
   "outputs": [
    {
     "data": {
      "text/plain": [
       "((21600, 64, 64, 3), (5400, 64, 64, 3), (21600,), (5400,))"
      ]
     },
     "execution_count": 19,
     "metadata": {},
     "output_type": "execute_result"
    },
    {
     "name": "stdout",
     "output_type": "stream",
     "text": [
      "time: 127 ms (started: 2022-04-28 03:44:59 +00:00)\n"
     ]
    }
   ],
   "source": [
    "Xtrain, Xtest, ytrain, ytest = train_test_split(X, Y, test_size=TEST_RATIO, random_state=2, shuffle=True, stratify=Y)\n",
    "Xtrain.shape, Xtest.shape, ytrain.shape, ytest.shape"
   ]
  },
  {
   "cell_type": "markdown",
   "id": "c6c7a1fe",
   "metadata": {},
   "source": [
    "# 创建Dataloader"
   ]
  },
  {
   "cell_type": "code",
   "execution_count": 20,
   "id": "656fcb80",
   "metadata": {},
   "outputs": [
    {
     "name": "stdout",
     "output_type": "stream",
     "text": [
      "time: 2.81 ms (started: 2022-04-28 03:45:01 +00:00)\n"
     ]
    }
   ],
   "source": [
    "# 对训练样本进行各种变换，包括随机拉伸和归一化等\n",
    "class ProcessTrainImage(object):\n",
    "    def __call__(self, sample):\n",
    "        image_transformations = transforms.Compose([\n",
    "                                            transforms.ToPILImage(),\n",
    "                                            transforms.RandomHorizontalFlip(),\n",
    "                                            transforms.RandomVerticalFlip(),\n",
    "                                            transforms.RandomRotation(degrees=90),\n",
    "                                            transforms.ToTensor(),\n",
    "                                            transforms.Normalize(\n",
    "                                            mean=[0.485, 0.456, 0.406],\n",
    "                                            std=[0.229, 0.224, 0.225]\n",
    "                                            )\n",
    "                                            ])\n",
    "\n",
    "        image, label = sample['image'], sample['label']\n",
    "        transformed_image = image_transformations(image)\n",
    "        transformed_label = to_categorical(label, num_classes=CLASSES)\n",
    "\n",
    "        transformed_sample = {\n",
    "            'image': transformed_image,\n",
    "            'label': transformed_label\n",
    "        }\n",
    "        return transformed_sample"
   ]
  },
  {
   "cell_type": "code",
   "execution_count": 21,
   "id": "264b0896",
   "metadata": {},
   "outputs": [
    {
     "name": "stdout",
     "output_type": "stream",
     "text": [
      "time: 1.22 ms (started: 2022-04-28 03:45:02 +00:00)\n"
     ]
    }
   ],
   "source": [
    "# 对训练样本进行变换，不包括拉伸，仅仅是转换为dataloader\n",
    "class ProcessTestImage(object):\n",
    "    def __call__(self, sample):\n",
    "        image_transformations = transforms.Compose([\n",
    "                                transforms.ToPILImage(),transforms.ToTensor(),\n",
    "                                transforms.Normalize(mean=[0.485, 0.456, 0.406],\n",
    "                                std=[0.229, 0.224, 0.225])])\n",
    "        \n",
    "        image, label = sample['image'], sample['label']\n",
    "        transformed_image = image_transformations(image)\n",
    "        transformed_label = to_categorical(label, num_classes = CLASSES)\n",
    "\n",
    "        transformed_sample = {\n",
    "            'image': transformed_image,\n",
    "            'label': transformed_label\n",
    "        }\n",
    "        return transformed_sample"
   ]
  },
  {
   "cell_type": "code",
   "execution_count": 22,
   "id": "9c2a6e6e",
   "metadata": {},
   "outputs": [
    {
     "name": "stdout",
     "output_type": "stream",
     "text": [
      "time: 2.37 ms (started: 2022-04-28 03:45:04 +00:00)\n"
     ]
    }
   ],
   "source": [
    "class EuroSatDataset(Dataset):\n",
    "    def __init__(self, images, labels, transform=None):\n",
    "        self.images = images\n",
    "        self.labels = labels\n",
    "        self.transform = transform\n",
    "\n",
    "    def __len__(self):\n",
    "        return len(self.images)\n",
    "\n",
    "    def __getitem__(self, index):\n",
    "        image = self.images[index]\n",
    "        label = LABEL_DICT[self.labels[index]]\n",
    "\n",
    "        data = {'image':image, 'label':label}\n",
    "        if self.transform:\n",
    "            data = self.transform(data)\n",
    "        return data"
   ]
  },
  {
   "cell_type": "code",
   "execution_count": 23,
   "id": "3f9eeb45",
   "metadata": {},
   "outputs": [
    {
     "name": "stdout",
     "output_type": "stream",
     "text": [
      "time: 2.94 ms (started: 2022-04-28 03:45:04 +00:00)\n"
     ]
    }
   ],
   "source": [
    "def create_train_test_loaders(batch_size):  \n",
    "    # 训练集\n",
    "    train_set = EuroSatDataset(Xtrain, ytrain, transform=ProcessTrainImage())\n",
    "    test_set = EuroSatDataset(Xtest, ytest, transform=ProcessTestImage())\n",
    "    \n",
    "    # 测试集\n",
    "    train_loader = DataLoader(train_set, batch_size=batch_size, shuffle = True)\n",
    "    test_loader = DataLoader(test_set, batch_size=batch_size, shuffle = False)\n",
    "\n",
    "    return train_loader, test_loader"
   ]
  },
  {
   "cell_type": "markdown",
   "id": "de98161b",
   "metadata": {},
   "source": [
    "# 使用预训练的模型"
   ]
  },
  {
   "cell_type": "code",
   "execution_count": 12,
   "id": "1af47ff4",
   "metadata": {},
   "outputs": [
    {
     "name": "stdout",
     "output_type": "stream",
     "text": [
      "time: 1.43 ms (started: 2022-04-22 13:31:41 +00:00)\n"
     ]
    }
   ],
   "source": [
    "# 冻结参数，用于使用冻结后的模型\n",
    "def freeze_params(parameters):\n",
    "    for param in parameters:\n",
    "        param.requires_grad = False\n",
    "\n",
    "# 不冻结参数，用于自己从头训练\n",
    "def unfreeze_params(parameters):\n",
    "    for param in parameters:\n",
    "        param.requires_grad = True"
   ]
  },
  {
   "cell_type": "code",
   "execution_count": 13,
   "id": "f1a36177",
   "metadata": {},
   "outputs": [
    {
     "name": "stdout",
     "output_type": "stream",
     "text": [
      "time: 1.89 ms (started: 2022-04-22 13:31:57 +00:00)\n"
     ]
    }
   ],
   "source": [
    "def transfer_model(pretrained_model, layers_to_train):\n",
    "    model = pretrained_model(pretrained=True)\n",
    "    model.fc = nn.Linear(model.fc.in_features, CLASSES)\n",
    "    freeze_params(model.parameters())\n",
    "    \n",
    "    if layers_to_train==\"last_layer\":\n",
    "        params = model.fc.parameters()\n",
    "\n",
    "    if layers_to_train==\"all\":\n",
    "        params = model.parameters()\n",
    "    unfreeze_params(params)\n",
    "    return model.to(DEVICE)"
   ]
  },
  {
   "cell_type": "code",
   "execution_count": 14,
   "id": "5842a7f6",
   "metadata": {},
   "outputs": [
    {
     "name": "stdout",
     "output_type": "stream",
     "text": [
      "time: 2.64 ms (started: 2022-04-22 13:31:58 +00:00)\n"
     ]
    }
   ],
   "source": [
    "# 定义各种模型\n",
    "def pretrained_res2net50_14w_8s(layers_to_train=\"all\"):\n",
    "    model = transfer_model(res2net.res2net50_14w_8s, layers_to_train)\n",
    "    return model\n",
    "\n",
    "def pretrained_res2net50_26w_4s(layers_to_train=\"all\"):\n",
    "    model = transfer_model(res2net.res2net50_26w_4s, layers_to_train)\n",
    "    return model\n",
    "\n",
    "def pretrained_res2net50_26w_6s(layers_to_train=\"all\"):\n",
    "    model = transfer_model(res2net.res2net50_26w_6s, layers_to_train)\n",
    "    return model\n",
    "\n",
    "def pretrained_res2net50_26w_8s(layers_to_train=\"all\"):\n",
    "    model = transfer_model(res2net.res2net50_26w_8s, layers_to_train)\n",
    "    return model\n",
    "\n",
    "def pretrained_res2net50_48w_2s(layers_to_train=\"all\"):\n",
    "    model = transfer_model(res2net.res2net50_48w_2s, layers_to_train)\n",
    "    return model\n",
    "\n",
    "def pretrained_resnet50(layers_to_train=\"all\"):\n",
    "    model = transfer_model(models.resnet50, layers_to_train)\n",
    "    return model\n",
    "\n",
    "all_models = {\n",
    "    'resnet50' : pretrained_resnet50,    \n",
    "    'res2net50_14w_8s' : pretrained_res2net50_14w_8s,\n",
    "    'res2net50_26w_4s' : pretrained_res2net50_26w_4s,\n",
    "    'res2net50_26w_6s' : pretrained_res2net50_26w_6s,\n",
    "    'res2net50_26w_8s' : pretrained_res2net50_26w_8s,\n",
    "    'res2net50_48w_2s' : pretrained_res2net50_48w_2s\n",
    "}"
   ]
  },
  {
   "cell_type": "markdown",
   "id": "06571dea",
   "metadata": {},
   "source": [
    "# 训练模型"
   ]
  },
  {
   "cell_type": "code",
   "execution_count": 49,
   "id": "61499f33",
   "metadata": {},
   "outputs": [
    {
     "name": "stdout",
     "output_type": "stream",
     "text": [
      "time: 4.83 ms (started: 2022-04-28 06:55:01 +00:00)\n"
     ]
    }
   ],
   "source": [
    "# 训练函数\n",
    "def train_model(model, train_loader, test_loader, optimizer, criterion, epochs, device, save_path):\n",
    "    min_train_loss = np.inf\n",
    "    model = model.to(device)\n",
    "\n",
    "    train_losses = []\n",
    "    test_losses = []\n",
    "    train_accuracies = []\n",
    "    test_accuracies = []\n",
    "\n",
    "    for epoch in range(epochs):\n",
    "        train_loss = 0\n",
    "        test_loss = 0\n",
    "        train_accuracy = 0\n",
    "        test_accuracy = 0\n",
    "\n",
    "        model.train()\n",
    "        cnt = 0\n",
    "        for batch in train_loader:\n",
    "            cnt += 1 # 计数\n",
    "            image_batch = batch['image'].to(device)\n",
    "            label_batch = batch['label'].to(device)\n",
    "            _, label_batch = torch.max(label_batch, 1)\n",
    "\n",
    "            optimizer.zero_grad()\n",
    "            y_pred = model(image_batch).to(device)\n",
    "            batch_loss = criterion(y_pred, label_batch)\n",
    "            batch_loss.backward()\n",
    "            optimizer.step()\n",
    "\n",
    "            _, output_labels = torch.max(y_pred, 1)\n",
    "            correct = label_batch.eq(output_labels).cpu().numpy()\n",
    "            train_accuracy += sum(correct)\n",
    "            train_loss += batch_loss.item() * image_batch.size(0)\n",
    "            \n",
    "            # 实时显示训练过程\n",
    "            print(\"epoch:{}, train:{}/{}\".format(epoch, cnt, len(train_loader)))\n",
    "            clear_output(wait = True)\n",
    "            \n",
    "        \n",
    "        average_training_loss = train_loss / len(train_loader.sampler)\n",
    "        average_training_accuracy = train_accuracy / len(train_loader.sampler)\n",
    "\n",
    "        average_testing_loss, average_testing_accuracy, _, _ = test_model(\n",
    "            model, test_loader, \n",
    "            criterion, device\n",
    "            )    \n",
    "    \n",
    "        train_losses.append(average_training_loss)\n",
    "        test_losses.append(average_testing_loss)\n",
    "        train_accuracies.append(average_training_accuracy)\n",
    "        test_accuracies.append(average_testing_accuracy)\n",
    "\n",
    "        print('Epoch: {}/{} \\t Train Loss: {:.6f} \\t Test Loss: {:.6f} \\t Train Accuracy: {:.4f} \\t Test Accuracy: {:.4f}'\n",
    "              .format(epoch,epochs, average_training_loss, average_testing_loss, average_training_accuracy, average_testing_accuracy))\n",
    "    \n",
    "        if min_train_loss > average_training_loss :\n",
    "            print('Model improved - Saving Model')\n",
    "            min_train_loss = average_training_loss\n",
    "            torch.save(model.state_dict(), save_path)      \n",
    "  \n",
    "    return train_losses, test_losses, train_accuracies, test_accuracies\n"
   ]
  },
  {
   "cell_type": "code",
   "execution_count": 50,
   "id": "20ab7339",
   "metadata": {},
   "outputs": [
    {
     "name": "stdout",
     "output_type": "stream",
     "text": [
      "time: 1.98 ms (started: 2022-04-28 06:55:05 +00:00)\n"
     ]
    }
   ],
   "source": [
    "# 测试函数\n",
    "def test_model(model, test_loader, criterion, device):\n",
    "    model = model.to(device)\n",
    "    test_accuracy = 0\n",
    "    test_loss = 0\n",
    "    true_labels = []\n",
    "    pred_labels = []\n",
    "\n",
    "    model.eval() # 进入评估模式\n",
    "    cnt = 0\n",
    "    for batch in test_loader:\n",
    "        cnt += 1\n",
    "        image_batch = batch['image'].to(device)\n",
    "        label_batch = batch['label'].to(device)\n",
    "        _, label_batch = torch.max(label_batch, 1)\n",
    "\n",
    "        y_pred = model(image_batch)\n",
    "        batch_loss = criterion(y_pred, label_batch)\n",
    "\n",
    "        _, output_labels = torch.max(y_pred, 1)\n",
    "        correct = label_batch.eq(output_labels).cpu().numpy()\n",
    "\n",
    "        test_accuracy += sum(correct)\n",
    "        test_loss += batch_loss.item() * image_batch.size(0)\n",
    "\n",
    "        true_labels += list(label_batch.cpu().numpy())\n",
    "        pred_labels += list(output_labels.cpu().numpy())\n",
    "        \n",
    "        # 实时显示测试过程\n",
    "        print(\"test:{}/{}\".format(cnt, len(test_loader)))\n",
    "#         clear_output(wait = True)\n",
    "\n",
    "    average_testing_loss = test_loss / len(test_loader.sampler)\n",
    "    average_testing_accuracy = test_accuracy / len(test_loader.sampler)\n",
    "    return average_testing_loss, average_testing_accuracy, true_labels, pred_labels"
   ]
  },
  {
   "cell_type": "code",
   "execution_count": 51,
   "id": "3e8d75a6",
   "metadata": {},
   "outputs": [
    {
     "name": "stdout",
     "output_type": "stream",
     "text": [
      "time: 987 µs (started: 2022-04-28 06:55:05 +00:00)\n"
     ]
    }
   ],
   "source": [
    "# 固定随机种子\n",
    "def random_seed():\n",
    "    torch.manual_seed(0)\n",
    "    np.random.seed(0)\n",
    "    random.seed(0)\n",
    "\n",
    "    if CUDA:\n",
    "        torch.backends.cudnn.deterministic = True\n",
    "        torch.backends.cudnn.benchmark = False"
   ]
  },
  {
   "cell_type": "markdown",
   "id": "1557d0fb",
   "metadata": {},
   "source": [
    "# 开始训练"
   ]
  },
  {
   "cell_type": "code",
   "execution_count": 26,
   "id": "64ad4673",
   "metadata": {},
   "outputs": [
    {
     "name": "stdout",
     "output_type": "stream",
     "text": [
      "time: 397 ms (started: 2022-04-28 03:45:18 +00:00)\n"
     ]
    }
   ],
   "source": [
    "LAYERS_TO_TRAIN = 'last_layer'\n",
    "# LAYERS_TO_TRAIN = 'all'\n",
    "model_name  = 'res2net50_26w_4s'\n",
    "\n",
    "random_seed()\n",
    "train_loader, test_loader = create_train_test_loaders(BATCH_SIZE)\n",
    "model = res2net.res2net50_26w_4s() # 既然无法下载预训练参数，那就直接使用原来的\n",
    "# model = transfer_model(res2net.res2net50_26w_4s, LAYERS_TO_TRAIN)\n",
    "# model = all_models[model_name](LAYERS_TO_TRAIN)"
   ]
  },
  {
   "cell_type": "code",
   "execution_count": 27,
   "id": "0ed5b6be",
   "metadata": {},
   "outputs": [
    {
     "name": "stdout",
     "output_type": "stream",
     "text": [
      "time: 6.89 ms (started: 2022-04-28 03:45:21 +00:00)\n"
     ]
    }
   ],
   "source": [
    "criterion = nn.CrossEntropyLoss() # 损失函数\n",
    "optimizer = optim.Adam(filter(lambda p: p.requires_grad, model.parameters()), lr=LEARNING_RATE)\n",
    "\n",
    "save_path = \"./Model/\" + model_name + '_weights_' + LAYERS_TO_TRAIN + '_' + str(TEST_RATIO) + '.pt'"
   ]
  },
  {
   "cell_type": "code",
   "execution_count": 32,
   "id": "8f541d71",
   "metadata": {},
   "outputs": [
    {
     "data": {
      "text/plain": [
       "'./Model/res2net50_26w_4s_weights_last_layer_0.2.pt'"
      ]
     },
     "execution_count": 32,
     "metadata": {},
     "output_type": "execute_result"
    },
    {
     "name": "stdout",
     "output_type": "stream",
     "text": [
      "time: 4.06 ms (started: 2022-04-23 01:40:24 +00:00)\n"
     ]
    }
   ],
   "source": [
    "save_path"
   ]
  },
  {
   "cell_type": "code",
   "execution_count": 23,
   "id": "4ed62674",
   "metadata": {},
   "outputs": [
    {
     "name": "stdout",
     "output_type": "stream",
     "text": [
      "time: 7h 3min 3s (started: 2022-04-22 13:32:59 +00:00)\n"
     ]
    }
   ],
   "source": [
    "train_losses, test_losses, train_accuracies, test_accuracies = train_model(\n",
    "      model=model, \n",
    "      train_loader=train_loader, \n",
    "      test_loader=test_loader, \n",
    "      optimizer=optimizer, \n",
    "      criterion=criterion, \n",
    "      epochs=EPOCHS, \n",
    "      device=DEVICE,\n",
    "      save_path=save_path\n",
    "      )\n",
    "\n",
    "clear_output(wait=True)"
   ]
  },
  {
   "cell_type": "code",
   "execution_count": 86,
   "id": "d76fbece",
   "metadata": {},
   "outputs": [
    {
     "name": "stdout",
     "output_type": "stream",
     "text": [
      "time: 247 ms (started: 2022-04-22 13:29:59 +00:00)\n"
     ]
    }
   ],
   "source": [
    "torch.save(model.state_dict(), save_path)    "
   ]
  },
  {
   "cell_type": "code",
   "execution_count": 40,
   "id": "57ebe49b",
   "metadata": {},
   "outputs": [
    {
     "data": {
      "image/png": "[encoded data removed]",
      "text/plain": [
       "<Figure size 540x360 with 1 Axes>"
      ]
     },
     "metadata": {
      "needs_background": "light"
     },
     "output_type": "display_data"
    },
    {
     "name": "stdout",
     "output_type": "stream",
     "text": [
      "time: 349 ms (started: 2022-04-23 02:32:29 +00:00)\n"
     ]
    }
   ],
   "source": [
    "import matplotlib.pyplot as plt\n",
    "import matplotlib as mpl\n",
    "\n",
    "plt.figure(dpi = 90)\n",
    "plt.title(\"Train on EuroSAT\")\n",
    "# mpl.rcParams['font.sans-serif'] = ['Times New Roman']\n",
    "plt.plot(train_accuracies, label = \"train accuracy\")\n",
    "plt.plot(test_accuracies, label = \"test accuracy\")\n",
    "plt.xlabel(\"Epochs\")\n",
    "plt.ylabel(\"Accuracy\")\n",
    "plt.legend()\n",
    "plt.savefig(\"./Figure/Train on EuroSAT.png\")\n",
    "plt.show()\n"
   ]
  },
  {
   "cell_type": "code",
   "execution_count": 34,
   "id": "17279317",
   "metadata": {},
   "outputs": [
    {
     "name": "stdout",
     "output_type": "stream",
     "text": [
      "time: 7.44 ms (started: 2022-04-23 02:16:21 +00:00)\n"
     ]
    }
   ],
   "source": [
    "save_pth = \"./Result_2_all/\"\n",
    "np.savetxt(save_pth + \"train_losses.txt\", train_losses)\n",
    "np.savetxt(save_pth + \"test_losses.txt\", test_losses)\n",
    "np.savetxt(save_pth + \"train_accuracies.txt\", train_accuracies)\n",
    "np.savetxt(save_pth + \"test_accuracies.txt\", test_accuracies)"
   ]
  },
  {
   "cell_type": "code",
   "execution_count": 35,
   "id": "203b637e",
   "metadata": {},
   "outputs": [
    {
     "data": {
      "text/plain": [
       "0.962037037037037"
      ]
     },
     "execution_count": 35,
     "metadata": {},
     "output_type": "execute_result"
    },
    {
     "name": "stdout",
     "output_type": "stream",
     "text": [
      "time: 5.44 ms (started: 2022-04-23 02:22:39 +00:00)\n"
     ]
    }
   ],
   "source": [
    "max(test_accuracies)"
   ]
  },
  {
   "cell_type": "markdown",
   "id": "ba7792c4",
   "metadata": {},
   "source": [
    "# 测试模型"
   ]
  },
  {
   "cell_type": "code",
   "execution_count": 28,
   "id": "0b0e90d9",
   "metadata": {},
   "outputs": [
    {
     "data": {
      "text/plain": [
       "<All keys matched successfully>"
      ]
     },
     "execution_count": 28,
     "metadata": {},
     "output_type": "execute_result"
    },
    {
     "name": "stdout",
     "output_type": "stream",
     "text": [
      "time: 599 ms (started: 2022-04-28 03:45:27 +00:00)\n"
     ]
    }
   ],
   "source": [
    "model_test = res2net.res2net50_26w_4s()\n",
    "model_test.eval()\n",
    "model_test.load_state_dict(torch.load(\"./Model/res2net50_26w_4s_weights_all_0.2.pt\"))"
   ]
  },
  {
   "cell_type": "code",
   "execution_count": 30,
   "id": "58cda899",
   "metadata": {},
   "outputs": [
    {
     "data": {
      "text/plain": [
       "0.9457407407407408"
      ]
     },
     "execution_count": 30,
     "metadata": {},
     "output_type": "execute_result"
    },
    {
     "name": "stdout",
     "output_type": "stream",
     "text": [
      "time: 30.3 s (started: 2022-04-28 03:46:05 +00:00)\n"
     ]
    }
   ],
   "source": [
    "# 测试函数\n",
    "avg_test_loss, avg_test_acc, true_labels, pred_labels = test_model(model_test, test_loader, criterion, DEVICE)\n",
    "print(avg_test_acc)"
   ]
  },
  {
   "cell_type": "code",
   "execution_count": 32,
   "id": "0a26fd79",
   "metadata": {},
   "outputs": [
    {
     "name": "stdout",
     "output_type": "stream",
     "text": [
      "time: 2.17 ms (started: 2022-04-28 03:52:20 +00:00)\n"
     ]
    }
   ],
   "source": [
    "def plot_confusion_matrix(y_true, y_pred, filename):\n",
    "    sb.set(font_scale=1.5)\n",
    "#     if not os.path.exists(\"Figures\"):\n",
    "#     os.makedirs(\"Figures\")\n",
    "#     filename = os.path.join(\"Figures\", filename)\n",
    "    cm = confusion_matrix(y_true, y_pred)\n",
    "    plt.figure(figsize=(12, 10))\n",
    "    sb.heatmap(cm, annot=True, fmt=\"d\", linewidths=5, xticklabels=LABELS, yticklabels=LABELS)\n",
    "#   plt.savefig(filename)\n",
    "    plt.show()"
   ]
  },
  {
   "cell_type": "code",
   "execution_count": 33,
   "id": "1fe362b2",
   "metadata": {},
   "outputs": [
    {
     "data": {
      "image/png": "[encoded data removed]",
      "text/plain": [
       "<Figure size 864x720 with 2 Axes>"
      ]
     },
     "metadata": {},
     "output_type": "display_data"
    },
    {
     "name": "stdout",
     "output_type": "stream",
     "text": [
      "time: 988 ms (started: 2022-04-28 03:52:47 +00:00)\n"
     ]
    }
   ],
   "source": [
    "plot_confusion_matrix(true_labels, pred_labels, \"\")"
   ]
  },
  {
   "cell_type": "markdown",
   "id": "54069a51",
   "metadata": {},
   "source": [
    "## Moblie_Res2Net"
   ]
  },
  {
   "cell_type": "code",
   "execution_count": 86,
   "id": "8ace29a2",
   "metadata": {},
   "outputs": [
    {
     "name": "stdout",
     "output_type": "stream",
     "text": [
      "time: 398 ms (started: 2022-04-28 13:18:34 +00:00)\n"
     ]
    }
   ],
   "source": [
    "# from Res2Net import DepthWiseConv\n",
    "from Res2Net import mobile_res2net\n",
    "model_m = mobile_res2net.mobile_res2net50_26w_4s()\n",
    "\n",
    "# LAYERS_TO_TRAIN = 'last_layer'\n",
    "LAYERS_TO_TRAIN = 'all'\n",
    "model_name  = 'mobile_res2net50_26w_4s'\n",
    "\n",
    "random_seed()\n",
    "train_loader, test_loader = create_train_test_loaders(BATCH_SIZE)\n",
    "criterion = nn.CrossEntropyLoss() # 损失函数\n",
    "optimizer = optim.Adam(filter(lambda p: p.requires_grad, model_m.parameters()), lr = LEARNING_RATE)\n",
    "\n",
    "save_path = \"./Model/\" + model_name + '_weights_' + LAYERS_TO_TRAIN + '_' + str(TEST_RATIO) + '.pt'"
   ]
  },
  {
   "cell_type": "code",
   "execution_count": 87,
   "id": "37b09d89",
   "metadata": {},
   "outputs": [
    {
     "name": "stdout",
     "output_type": "stream",
     "text": [
      "Epoch: 59/60 \t Train Loss: 0.123859 \t Test Loss: 0.178254 \t Train Accuracy: 0.9576 \t Test Accuracy: 0.9419\n",
      "Model improved - Saving Model\n",
      "time: 7h 28min 3s (started: 2022-04-28 13:18:45 +00:00)\n"
     ]
    }
   ],
   "source": [
    "train_losses_m, test_losses_m, train_accuracies_m, test_accuracies_m = train_model(\n",
    "      model = model_m, \n",
    "      train_loader = train_loader, \n",
    "      test_loader = test_loader, \n",
    "      optimizer = optimizer, \n",
    "      criterion = criterion, \n",
    "      epochs = EPOCHS, \n",
    "      device = DEVICE,\n",
    "      save_path = save_path\n",
    "      )"
   ]
  },
  {
   "cell_type": "code",
   "execution_count": 94,
   "id": "514f149d",
   "metadata": {},
   "outputs": [
    {
     "data": {
      "text/plain": [
       "0.9535185185185185"
      ]
     },
     "execution_count": 94,
     "metadata": {},
     "output_type": "execute_result"
    },
    {
     "name": "stdout",
     "output_type": "stream",
     "text": [
      "time: 5.43 ms (started: 2022-04-29 01:48:37 +00:00)\n"
     ]
    }
   ],
   "source": [
    "max(test_accuracies_m)"
   ]
  },
  {
   "cell_type": "code",
   "execution_count": 90,
   "id": "28e1694c",
   "metadata": {},
   "outputs": [
    {
     "data": {
      "image/png": "[encoded data removed]",
      "text/plain": [
       "<Figure size 540x360 with 1 Axes>"
      ]
     },
     "metadata": {},
     "output_type": "display_data"
    },
    {
     "name": "stdout",
     "output_type": "stream",
     "text": [
      "time: 499 ms (started: 2022-04-29 01:07:40 +00:00)\n"
     ]
    }
   ],
   "source": [
    "import matplotlib.pyplot as plt\n",
    "import matplotlib as mpl\n",
    "\n",
    "plt.figure(dpi = 90)\n",
    "plt.title(\"Train on EuroSAT (Mobile Model)\")\n",
    "# mpl.rcParams['font.sans-serif'] = ['Times New Roman']\n",
    "plt.plot(train_accuracies_m, label = \"train accuracy\")\n",
    "plt.plot(test_accuracies_m, label = \"test accuracy\")\n",
    "plt.xlabel(\"Epochs\")\n",
    "plt.ylabel(\"Accuracy\")\n",
    "plt.legend()\n",
    "plt.savefig(\"./Figure/Train on EuroSAT.png\")\n",
    "plt.show()"
   ]
  },
  {
   "cell_type": "code",
   "execution_count": 89,
   "id": "db28f54e",
   "metadata": {},
   "outputs": [
    {
     "name": "stdout",
     "output_type": "stream",
     "text": [
      "time: 7.18 ms (started: 2022-04-29 01:06:45 +00:00)\n"
     ]
    }
   ],
   "source": [
    "save_pth = \"./Result_m_all/\"\n",
    "np.savetxt(save_pth + \"train_losses.txt\", train_losses_m)\n",
    "np.savetxt(save_pth + \"test_losses.txt\", test_losses_m)\n",
    "np.savetxt(save_pth + \"train_accuracies.txt\", train_accuracies_m)\n",
    "np.savetxt(save_pth + \"test_accuracies.txt\", test_accuracies_m)"
   ]
  },
  {
   "cell_type": "code",
   "execution_count": 92,
   "id": "d80f3320",
   "metadata": {},
   "outputs": [
    {
     "name": "stdout",
     "output_type": "stream",
     "text": [
      "0.9418518518518518\n",
      "time: 31.2 s (started: 2022-04-29 01:47:18 +00:00)\n"
     ]
    }
   ],
   "source": [
    "# 测试函数\n",
    "avg_test_loss_m, avg_test_acc_m, true_labels_m, pred_labels_m = test_model(model_m, test_loader, criterion, DEVICE)\n",
    "print(avg_test_acc_m)"
   ]
  },
  {
   "cell_type": "code",
   "execution_count": 80,
   "id": "471143d1",
   "metadata": {},
   "outputs": [
    {
     "data": {
      "text/plain": [
       "(tensor([944], device='cuda:1'), tensor([0], device='cuda:1'))"
      ]
     },
     "execution_count": 80,
     "metadata": {},
     "output_type": "execute_result"
    },
    {
     "name": "stdout",
     "output_type": "stream",
     "text": [
      "time: 168 ms (started: 2022-04-28 12:42:11 +00:00)\n"
     ]
    }
   ],
   "source": [
    "from PIL import Image\n",
    "    \n",
    "image_transformations = transforms.Compose([\n",
    "                        transforms.ToTensor(),\n",
    "                        transforms.Normalize(mean=[0.485, 0.456, 0.406],\n",
    "                        std=[0.229, 0.224, 0.225])])\n",
    "image = Image.open(img_path).convert('RGB')    \n",
    "img_input = image_transformations(image).unsqueeze(0).to(DEVICE)\n",
    "img_input.size()\n",
    "_, label = torch.max(model_m(img_input), 1)\n",
    "_, label_ = torch.max(model_test(img_input), 1)\n",
    "label, label_"
   ]
  },
  {
   "cell_type": "code",
   "execution_count": null,
   "id": "64b923a9",
   "metadata": {},
   "outputs": [],
   "source": [
    "train_losses_m, test_losses_m, train_accuracies_m, test_accuracies_m\n"
   ]
  },
  {
   "cell_type": "markdown",
   "id": "5ab5d5a4",
   "metadata": {},
   "source": [
    "# ResNet"
   ]
  },
  {
   "cell_type": "code",
   "execution_count": 100,
   "id": "7127efe4",
   "metadata": {},
   "outputs": [
    {
     "name": "stdout",
     "output_type": "stream",
     "text": [
      "----------------------------------------------------------------\n",
      "        Layer (type)               Output Shape         Param #\n",
      "================================================================\n",
      "            Conv2d-1         [-1, 64, 112, 112]           9,408\n",
      "       BatchNorm2d-2         [-1, 64, 112, 112]             128\n",
      "              ReLU-3         [-1, 64, 112, 112]               0\n",
      "         MaxPool2d-4           [-1, 64, 56, 56]               0\n",
      "            Conv2d-5           [-1, 64, 56, 56]          36,864\n",
      "       BatchNorm2d-6           [-1, 64, 56, 56]             128\n",
      "              ReLU-7           [-1, 64, 56, 56]               0\n",
      "            Conv2d-8           [-1, 64, 56, 56]          36,864\n",
      "       BatchNorm2d-9           [-1, 64, 56, 56]             128\n",
      "       BasicBlock-10           [-1, 64, 56, 56]               0\n",
      "           Conv2d-11           [-1, 64, 56, 56]          36,864\n",
      "      BatchNorm2d-12           [-1, 64, 56, 56]             128\n",
      "             ReLU-13           [-1, 64, 56, 56]               0\n",
      "           Conv2d-14           [-1, 64, 56, 56]          36,864\n",
      "      BatchNorm2d-15           [-1, 64, 56, 56]             128\n",
      "       BasicBlock-16           [-1, 64, 56, 56]               0\n",
      "           Conv2d-17          [-1, 128, 28, 28]          73,728\n",
      "      BatchNorm2d-18          [-1, 128, 28, 28]             256\n",
      "             ReLU-19          [-1, 128, 28, 28]               0\n",
      "           Conv2d-20          [-1, 128, 28, 28]         147,456\n",
      "      BatchNorm2d-21          [-1, 128, 28, 28]             256\n",
      "           Conv2d-22          [-1, 128, 28, 28]           8,192\n",
      "      BatchNorm2d-23          [-1, 128, 28, 28]             256\n",
      "       BasicBlock-24          [-1, 128, 28, 28]               0\n",
      "           Conv2d-25          [-1, 128, 28, 28]         147,456\n",
      "      BatchNorm2d-26          [-1, 128, 28, 28]             256\n",
      "             ReLU-27          [-1, 128, 28, 28]               0\n",
      "           Conv2d-28          [-1, 128, 28, 28]         147,456\n",
      "      BatchNorm2d-29          [-1, 128, 28, 28]             256\n",
      "       BasicBlock-30          [-1, 128, 28, 28]               0\n",
      "           Conv2d-31          [-1, 256, 14, 14]         294,912\n",
      "      BatchNorm2d-32          [-1, 256, 14, 14]             512\n",
      "             ReLU-33          [-1, 256, 14, 14]               0\n",
      "           Conv2d-34          [-1, 256, 14, 14]         589,824\n",
      "      BatchNorm2d-35          [-1, 256, 14, 14]             512\n",
      "           Conv2d-36          [-1, 256, 14, 14]          32,768\n",
      "      BatchNorm2d-37          [-1, 256, 14, 14]             512\n",
      "       BasicBlock-38          [-1, 256, 14, 14]               0\n",
      "           Conv2d-39          [-1, 256, 14, 14]         589,824\n",
      "      BatchNorm2d-40          [-1, 256, 14, 14]             512\n",
      "             ReLU-41          [-1, 256, 14, 14]               0\n",
      "           Conv2d-42          [-1, 256, 14, 14]         589,824\n",
      "      BatchNorm2d-43          [-1, 256, 14, 14]             512\n",
      "       BasicBlock-44          [-1, 256, 14, 14]               0\n",
      "           Conv2d-45            [-1, 512, 7, 7]       1,179,648\n",
      "      BatchNorm2d-46            [-1, 512, 7, 7]           1,024\n",
      "             ReLU-47            [-1, 512, 7, 7]               0\n",
      "           Conv2d-48            [-1, 512, 7, 7]       2,359,296\n",
      "      BatchNorm2d-49            [-1, 512, 7, 7]           1,024\n",
      "           Conv2d-50            [-1, 512, 7, 7]         131,072\n",
      "      BatchNorm2d-51            [-1, 512, 7, 7]           1,024\n",
      "       BasicBlock-52            [-1, 512, 7, 7]               0\n",
      "           Conv2d-53            [-1, 512, 7, 7]       2,359,296\n",
      "      BatchNorm2d-54            [-1, 512, 7, 7]           1,024\n",
      "             ReLU-55            [-1, 512, 7, 7]               0\n",
      "           Conv2d-56            [-1, 512, 7, 7]       2,359,296\n",
      "      BatchNorm2d-57            [-1, 512, 7, 7]           1,024\n",
      "       BasicBlock-58            [-1, 512, 7, 7]               0\n",
      "AdaptiveAvgPool2d-59            [-1, 512, 1, 1]               0\n",
      "           Linear-60                  [-1, 100]          51,300\n",
      "================================================================\n",
      "Total params: 11,227,812\n",
      "Trainable params: 11,227,812\n",
      "Non-trainable params: 0\n",
      "----------------------------------------------------------------\n",
      "Input size (MB): 0.57\n",
      "Forward/backward pass size (MB): 57.04\n",
      "Params size (MB): 42.83\n",
      "Estimated Total Size (MB): 100.45\n",
      "----------------------------------------------------------------\n",
      "time: 239 ms (started: 2022-04-29 05:06:06 +00:00)\n"
     ]
    }
   ],
   "source": [
    "from Res2Net import ResNet\n",
    "from torchsummary import  summary\n",
    "\n",
    "model_r = ResNet.resnet18().cuda()\n",
    "summary(model_r, (3,224,224))\n",
    "\n",
    "# LAYERS_TO_TRAIN = 'last_layer'\n",
    "LAYERS_TO_TRAIN = 'all'\n",
    "model_name  = 'resnet50_26w_4s'\n",
    "\n",
    "random_seed()\n",
    "train_loader, test_loader = create_train_test_loaders(BATCH_SIZE)\n",
    "criterion = nn.CrossEntropyLoss() # 损失函数\n",
    "optimizer = optim.Adam(filter(lambda p: p.requires_grad, model_r.parameters()), lr = LEARNING_RATE)\n",
    "\n",
    "save_path = \"./Model/\" + model_name + '_weights_' + LAYERS_TO_TRAIN + '_' + str(TEST_RATIO) + '.pt'"
   ]
  },
  {
   "cell_type": "code",
   "execution_count": 103,
   "id": "7ae1f992",
   "metadata": {},
   "outputs": [
    {
     "name": "stdout",
     "output_type": "stream",
     "text": [
      "Epoch: 29/30 \t Train Loss: 0.149103 \t Test Loss: 0.202670 \t Train Accuracy: 0.9478 \t Test Accuracy: 0.9320\n",
      "time: 1h 15min 12s (started: 2022-04-29 05:10:45 +00:00)\n"
     ]
    }
   ],
   "source": [
    "train_losses_r, test_losses_r, train_accuracies_r, test_accuracies_r = train_model(\n",
    "      model = model_r, \n",
    "      train_loader = train_loader, \n",
    "      test_loader = test_loader, \n",
    "      optimizer = optimizer, \n",
    "      criterion = criterion, \n",
    "      epochs = 30, \n",
    "      device = DEVICE,\n",
    "      save_path = save_path\n",
    "      )"
   ]
  },
  {
   "cell_type": "code",
   "execution_count": 105,
   "id": "a14d9bf2",
   "metadata": {},
   "outputs": [
    {
     "name": "stdout",
     "output_type": "stream",
     "text": [
      "time: 1.33 ms (started: 2022-04-29 06:51:42 +00:00)\n"
     ]
    }
   ],
   "source": [
    "save_path = \"./Model/\" + model_name + '_weights_' + LAYERS_TO_TRAIN + '_' + str(TEST_RATIO) + '.pt'"
   ]
  },
  {
   "cell_type": "code",
   "execution_count": 106,
   "id": "31c59e21",
   "metadata": {},
   "outputs": [
    {
     "data": {
      "text/plain": [
       "<All keys matched successfully>"
      ]
     },
     "execution_count": 106,
     "metadata": {},
     "output_type": "execute_result"
    },
    {
     "name": "stdout",
     "output_type": "stream",
     "text": [
      "time: 68.8 ms (started: 2022-04-29 06:52:41 +00:00)\n"
     ]
    }
   ],
   "source": [
    "model_r.eval()\n",
    "model_r.load_state_dict(torch.load(\"./Model/resnet50_26w_4s_weights_all_0.2.pt\"))"
   ]
  },
  {
   "cell_type": "code",
   "execution_count": 109,
   "id": "a4c89f38",
   "metadata": {},
   "outputs": [
    {
     "name": "stdout",
     "output_type": "stream",
     "text": [
      "time: 12.5 s (started: 2022-04-29 06:54:51 +00:00)\n"
     ]
    }
   ],
   "source": [
    "# 测试函数\n",
    "avg_test_loss_r, avg_test_acc_r, true_labels_r, pred_labels_r = test_model(model_r, test_loader, criterion, DEVICE)\n"
   ]
  },
  {
   "cell_type": "code",
   "execution_count": 110,
   "id": "98f4b5fb",
   "metadata": {},
   "outputs": [
    {
     "name": "stdout",
     "output_type": "stream",
     "text": [
      "0.9418518518518518\n",
      "time: 1.19 ms (started: 2022-04-29 06:56:31 +00:00)\n"
     ]
    }
   ],
   "source": [
    "print(avg_test_acc_m)"
   ]
  },
  {
   "cell_type": "code",
   "execution_count": 112,
   "id": "2d90b489",
   "metadata": {},
   "outputs": [
    {
     "data": {
      "image/png": "[encoded data removed]",
      "text/plain": [
       "<Figure size 540x360 with 1 Axes>"
      ]
     },
     "metadata": {},
     "output_type": "display_data"
    },
    {
     "name": "stdout",
     "output_type": "stream",
     "text": [
      "time: 466 ms (started: 2022-04-29 07:01:59 +00:00)\n"
     ]
    }
   ],
   "source": [
    "plt.figure(dpi = 90)\n",
    "plt.title(\"Train on EuroSAT (ResNet)\")\n",
    "# mpl.rcParams['font.sans-serif'] = ['Times New Roman']\n",
    "plt.plot(train_accuracies_r, label = \"train accuracy\")\n",
    "plt.plot(test_accuracies_r, label = \"test accuracy\")\n",
    "plt.xlabel(\"Epochs\")\n",
    "plt.ylabel(\"Accuracy\")\n",
    "plt.legend()\n",
    "plt.savefig(\"./Figure/Train on EuroSAT.png\")\n",
    "plt.show()"
   ]
  },
  {
   "cell_type": "code",
   "execution_count": 114,
   "id": "27ad6ec3",
   "metadata": {},
   "outputs": [
    {
     "name": "stdout",
     "output_type": "stream",
     "text": [
      "time: 21.8 ms (started: 2022-04-29 07:38:18 +00:00)\n"
     ]
    }
   ],
   "source": [
    "save_pth = \"./Result_resnet_all/\"\n",
    "np.savetxt(save_pth + \"train_losses.txt\", train_losses_r)\n",
    "np.savetxt(save_pth + \"test_losses.txt\", test_losses_r)\n",
    "np.savetxt(save_pth + \"train_accuracies.txt\", train_accuracies_r)\n",
    "np.savetxt(save_pth + \"test_accuracies.txt\", test_accuracies_r)"
   ]
  },
  {
   "cell_type": "code",
   "execution_count": null,
   "id": "7f00a68f",
   "metadata": {},
   "outputs": [],
   "source": []
  }
 ],
 "metadata": {
  "kernelspec": {
   "display_name": "Python 3",
   "language": "python",
   "name": "python3"
  },
  "language_info": {
   "codemirror_mode": {
    "name": "ipython",
    "version": 3
   },
   "file_extension": ".py",
   "mimetype": "text/x-python",
   "name": "python",
   "nbconvert_exporter": "python",
   "pygments_lexer": "ipython3",
   "version": "3.6.13"
  },
  "varInspector": {
   "cols": {
    "lenName": 16,
    "lenType": 16,
    "lenVar": 40
   },
   "kernels_config": {
    "python": {
     "delete_cmd_postfix": "",
     "delete_cmd_prefix": "del ",
     "library": "var_list.py",
     "varRefreshCmd": "print(var_dic_list())"
    },
    "r": {
     "delete_cmd_postfix": ") ",
     "delete_cmd_prefix": "rm(",
     "library": "var_list.r",
     "varRefreshCmd": "cat(var_dic_list()) "
    }
   },
   "types_to_exclude": [
    "module",
    "function",
    "builtin_function_or_method",
    "instance",
    "_Feature"
   ],
   "window_display": false
  }
 },
 "nbformat": 4,
 "nbformat_minor": 5
}
